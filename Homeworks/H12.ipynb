{
 "cells": [
  {
   "cell_type": "code",
   "execution_count": 3,
   "id": "03646dbd-db3e-4cee-b17c-a7011abbf0c8",
   "metadata": {},
   "outputs": [],
   "source": [
    "import numpy as np\n",
    "import matplotlib as plt"
   ]
  },
  {
   "cell_type": "markdown",
   "id": "51dd3548-bf8c-4884-893d-c9d1c433a0a0",
   "metadata": {},
   "source": [
    "### Problem 3 - Power Series"
   ]
  },
  {
   "cell_type": "code",
   "execution_count": 74,
   "id": "1fde4c43-e249-4971-ab8e-0b28688adc2a",
   "metadata": {},
   "outputs": [],
   "source": [
    "def constr_Hilbert_mat(n):\n",
    "    H_mat = np.zeros((n-1,n-1))\n",
    "    for i in range(1,n):\n",
    "        H_mat[i-1][:] = np.array([1/(i + j -1) for j in range(1,n)])\n",
    "    return H_mat\n",
    "        "
   ]
  },
  {
   "cell_type": "code",
   "execution_count": 365,
   "id": "36a2175d-7980-40ff-a581-7be95e6bb04c",
   "metadata": {},
   "outputs": [],
   "source": [
    "def power_series(A, v0, mu, TOL, NMAX):\n",
    "    \n",
    "    v = v0/np.linalg.norm(v0)\n",
    "    eig_cur =  v.T.conj()@A@v/np.linalg.norm(v)\n",
    "    eigs = np.array(eig_cur)\n",
    "    n = 0\n",
    "    while (n < NMAX):\n",
    "        y = A@v\n",
    "        v = y/np.linalg.norm(y)\n",
    "\n",
    "        eig_cur =  v.T.conj()@A@v/np.linalg.norm(v)\n",
    "        eigs = np.vstack((eigs,eig_cur))\n",
    "\n",
    "        n += 1\n",
    "\n",
    "        if(np.absolute(eig_cur - eigs[-2]) < TOL):\n",
    "            break\n",
    "\n",
    "    return np.array(eigs)\n",
    "        "
   ]
  },
  {
   "cell_type": "code",
   "execution_count": 366,
   "id": "1549e9c5-1b40-4f49-98b8-e3846d3309ac",
   "metadata": {},
   "outputs": [
    {
     "name": "stdout",
     "output_type": "stream",
     "text": [
      "[1.40831893]\n",
      "[1.40831893 0.12232707 0.00268734]\n"
     ]
    }
   ],
   "source": [
    "A = constr_Hilbert_mat(4)\n",
    "v = np.array([69, 69, 69])\n",
    "eig_arr = power_series(A,v, 1, 1e-15, 100)\n",
    "print(eig_arr[-1])\n",
    "print(np.linalg.eig(A)[0])"
   ]
  },
  {
   "cell_type": "code",
   "execution_count": 367,
   "id": "94c7e9b2-551c-4a3b-ac4b-9cabdd8abfea",
   "metadata": {},
   "outputs": [
    {
     "name": "stdout",
     "output_type": "stream",
     "text": [
      "Number of iterations to converge: 7 for size N = 4\n",
      "Number of iterations to converge: 9 for size N = 8\n",
      "Number of iterations to converge: 10 for size N = 12\n",
      "Number of iterations to converge: 10 for size N = 16\n",
      "Number of iterations to converge: 11 for size N = 20\n"
     ]
    }
   ],
   "source": [
    "TOL = 1e-10\n",
    "NMAX = 200\n",
    "\n",
    "\n",
    "N_arr = np.arange(4,24,4)\n",
    "num_iters = np.zeros(len(N_arr))\n",
    "\n",
    "\n",
    "for (N,i) in zip(N_arr, range(len(N_arr))):\n",
    "    A = constr_Hilbert_mat(N)\n",
    "    v = 69*np.ones(N-1)\n",
    "    num_iters[i] = len(power_series(A, v, 1, TOL, NMAX))\n",
    "    print(\"Number of iterations to converge:\", int(num_iters[i]), \"for size N =\", N)"
   ]
  },
  {
   "cell_type": "code",
   "execution_count": 368,
   "id": "0d1f56ea-d29f-42ee-9bce-cb598fae37c6",
   "metadata": {},
   "outputs": [],
   "source": [
    "def inv_power_series(A, v0, mu, TOL, NMAX):\n",
    "    \n",
    "    v = v0/np.linalg.norm(v0)\n",
    "    eig_cur =  v.T@A@v/np.linalg.norm(v)\n",
    "    eigs = [eig_cur]\n",
    "    n = 0\n",
    "    while (n < NMAX):\n",
    "        y = np.linalg.solve(A,v)\n",
    "        v = y/np.linalg.norm(y)\n",
    "\n",
    "        eig_cur =  v.T@A@v/np.linalg.norm(v)\n",
    "        eigs.append(eig_cur)\n",
    "\n",
    "        n += 1\n",
    "\n",
    "        if(abs(eig_cur - eigs[-2]) < TOL):\n",
    "            break\n",
    "\n",
    "    return np.array(eigs)"
   ]
  },
  {
   "cell_type": "code",
   "execution_count": 439,
   "id": "573d3f77-a650-40ac-802f-565c79f5d2f9",
   "metadata": {},
   "outputs": [
    {
     "name": "stdout",
     "output_type": "stream",
     "text": [
      "-8.2125379689211e-18\n",
      "[ 1.84592775e+00  4.26627957e-01  5.72120925e-02  5.63983476e-03\n",
      "  4.36476594e-04  2.71085392e-05  1.36158224e-06  5.52898848e-08\n",
      "  1.80295975e-09  4.65778639e-11  9.32153554e-13  1.39457340e-14\n",
      "  1.39003834e-16  7.13161496e-18 -4.55002805e-18]\n"
     ]
    }
   ],
   "source": [
    "N = 16\n",
    "A = constr_Hilbert_mat(N)\n",
    "v = 69*np.ones(N-1)\n",
    "eig_arr = inv_power_series(A,v, 1, 1e-22, 100)\n",
    "print(eig_arr[-1])\n",
    "print(np.linalg.eig(A)[0])"
   ]
  },
  {
   "cell_type": "code",
   "execution_count": 440,
   "id": "e22932c3-fdf7-40a4-ad8a-4100bf45df89",
   "metadata": {},
   "outputs": [
    {
     "data": {
      "text/plain": [
       "11"
      ]
     },
     "execution_count": 440,
     "metadata": {},
     "output_type": "execute_result"
    }
   ],
   "source": [
    "A = np.array([[1,1],[0,1]])\n",
    "v = np.array([31.2, 502.1])\n",
    "eigs = power_series(A, v, 1, TOL, 10)\n",
    "len(eigs)"
   ]
  },
  {
   "cell_type": "code",
   "execution_count": 490,
   "id": "054a457d-6fca-4f01-aef3-da055a89ac34",
   "metadata": {},
   "outputs": [],
   "source": [
    "N = 10\n",
    "def random_complex_vector(size):\n",
    "  real_part = np.random.rand(size)\n",
    "  imag_part = np.random.rand(size)\n",
    "  complex_vector = real_part + 1j * imag_part\n",
    "  return complex_vector\n",
    "\n",
    "V_relf = random_complex_vector(N)\n",
    "V_relf = np.reshape(V_relf,(len(V_relf), 1) )\n",
    "V_relf = V_relf/np.linalg.norm(V_relf)\n",
    "H_relf = np.eye(N) - 2*V_relf@np.conj(V_relf.T)\n"
   ]
  },
  {
   "cell_type": "code",
   "execution_count": 491,
   "id": "f3965a42-185a-4614-b480-a570aa28502c",
   "metadata": {},
   "outputs": [],
   "source": [
    "r_test = random_complex_vector(N)\n",
    "r_test = r_test/np.linalg.norm(r_test)\n",
    "r_test = np.reshape(r_test,(len(r_test), 1) )"
   ]
  },
  {
   "cell_type": "code",
   "execution_count": null,
   "id": "da5d5b85-c0a5-48b8-a081-009e4bce0a88",
   "metadata": {},
   "outputs": [],
   "source": []
  },
  {
   "cell_type": "code",
   "execution_count": 492,
   "id": "28fdd11c-520c-43c0-b415-38392ace2156",
   "metadata": {},
   "outputs": [
    {
     "ename": "KeyboardInterrupt",
     "evalue": "",
     "output_type": "error",
     "traceback": [
      "\u001b[0;31m---------------------------------------------------------------------------\u001b[0m",
      "\u001b[0;31mKeyboardInterrupt\u001b[0m                         Traceback (most recent call last)",
      "Cell \u001b[0;32mIn[492], line 3\u001b[0m\n\u001b[1;32m      1\u001b[0m A \u001b[38;5;241m=\u001b[39m H_relf\n\u001b[1;32m      2\u001b[0m v \u001b[38;5;241m=\u001b[39m r_test\n\u001b[0;32m----> 3\u001b[0m eig_arr \u001b[38;5;241m=\u001b[39m power_series(A,v, \u001b[38;5;241m1\u001b[39m, \u001b[38;5;241m1e-22\u001b[39m, np\u001b[38;5;241m.\u001b[39minf)\n\u001b[1;32m      4\u001b[0m \u001b[38;5;28mprint\u001b[39m(eig_arr[\u001b[38;5;241m-\u001b[39m\u001b[38;5;241m1\u001b[39m])\n\u001b[1;32m      5\u001b[0m \u001b[38;5;28mprint\u001b[39m(np\u001b[38;5;241m.\u001b[39mlinalg\u001b[38;5;241m.\u001b[39meig(A)[\u001b[38;5;241m0\u001b[39m])\n",
      "Cell \u001b[0;32mIn[365], line 12\u001b[0m, in \u001b[0;36mpower_series\u001b[0;34m(A, v0, mu, TOL, NMAX)\u001b[0m\n\u001b[1;32m      9\u001b[0m v \u001b[38;5;241m=\u001b[39m y\u001b[38;5;241m/\u001b[39mnp\u001b[38;5;241m.\u001b[39mlinalg\u001b[38;5;241m.\u001b[39mnorm(y)\n\u001b[1;32m     11\u001b[0m eig_cur \u001b[38;5;241m=\u001b[39m  v\u001b[38;5;241m.\u001b[39mT\u001b[38;5;241m.\u001b[39mconj()\u001b[38;5;129m@A\u001b[39m\u001b[38;5;129m@v\u001b[39m\u001b[38;5;241m/\u001b[39mnp\u001b[38;5;241m.\u001b[39mlinalg\u001b[38;5;241m.\u001b[39mnorm(v)\n\u001b[0;32m---> 12\u001b[0m eigs \u001b[38;5;241m=\u001b[39m np\u001b[38;5;241m.\u001b[39mvstack((eigs,eig_cur))\n\u001b[1;32m     14\u001b[0m n \u001b[38;5;241m+\u001b[39m\u001b[38;5;241m=\u001b[39m \u001b[38;5;241m1\u001b[39m\n\u001b[1;32m     16\u001b[0m \u001b[38;5;28;01mif\u001b[39;00m(np\u001b[38;5;241m.\u001b[39mabsolute(eig_cur \u001b[38;5;241m-\u001b[39m eigs[\u001b[38;5;241m-\u001b[39m\u001b[38;5;241m2\u001b[39m]) \u001b[38;5;241m<\u001b[39m TOL):\n",
      "File \u001b[0;32m~/miniconda3/lib/python3.12/site-packages/numpy/_core/shape_base.py:292\u001b[0m, in \u001b[0;36mvstack\u001b[0;34m(tup, dtype, casting)\u001b[0m\n\u001b[1;32m    290\u001b[0m \u001b[38;5;28;01mif\u001b[39;00m \u001b[38;5;129;01mnot\u001b[39;00m \u001b[38;5;28misinstance\u001b[39m(arrs, \u001b[38;5;28mtuple\u001b[39m):\n\u001b[1;32m    291\u001b[0m     arrs \u001b[38;5;241m=\u001b[39m (arrs,)\n\u001b[0;32m--> 292\u001b[0m \u001b[38;5;28;01mreturn\u001b[39;00m _nx\u001b[38;5;241m.\u001b[39mconcatenate(arrs, \u001b[38;5;241m0\u001b[39m, dtype\u001b[38;5;241m=\u001b[39mdtype, casting\u001b[38;5;241m=\u001b[39mcasting)\n",
      "\u001b[0;31mKeyboardInterrupt\u001b[0m: "
     ]
    }
   ],
   "source": [
    "\n",
    "A = H_relf\n",
    "v = r_test\n",
    "# This will go on for ever\n",
    "eig_arr = power_series(A,v, 1, 1e-22, np.inf)\n",
    "print(eig_arr[-1])\n",
    "print(np.linalg.eig(A)[0])"
   ]
  },
  {
   "cell_type": "code",
   "execution_count": null,
   "id": "0f2f9401-9917-4c5e-84a1-711d9d8d625a",
   "metadata": {},
   "outputs": [],
   "source": [
    "np.transpose(r_test.conj())"
   ]
  },
  {
   "cell_type": "code",
   "execution_count": 485,
   "id": "df3b3fbb-e0b3-4582-8576-4b7ba926657e",
   "metadata": {},
   "outputs": [
    {
     "data": {
      "text/plain": [
       "array([[0.77474265+0.60338355j],\n",
       "       [0.09359484+0.16414054j]])"
      ]
     },
     "execution_count": 485,
     "metadata": {},
     "output_type": "execute_result"
    }
   ],
   "source": [
    "r_test = H_relf@r_test\n",
    "r_test = r_test/np.linalg.norm(r_test)\n",
    "r_test"
   ]
  },
  {
   "cell_type": "code",
   "execution_count": null,
   "id": "8a74aff5-33fa-4e3e-8272-ce6201156cd2",
   "metadata": {},
   "outputs": [],
   "source": []
  },
  {
   "cell_type": "code",
   "execution_count": null,
   "id": "6d4b90cf-5925-4c1c-b361-4f868128ece5",
   "metadata": {},
   "outputs": [],
   "source": []
  }
 ],
 "metadata": {
  "kernelspec": {
   "display_name": "Python 3 (ipykernel)",
   "language": "python",
   "name": "python3"
  },
  "language_info": {
   "codemirror_mode": {
    "name": "ipython",
    "version": 3
   },
   "file_extension": ".py",
   "mimetype": "text/x-python",
   "name": "python",
   "nbconvert_exporter": "python",
   "pygments_lexer": "ipython3",
   "version": "3.12.9"
  }
 },
 "nbformat": 4,
 "nbformat_minor": 5
}
