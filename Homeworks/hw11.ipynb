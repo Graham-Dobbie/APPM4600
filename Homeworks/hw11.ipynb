{
 "cells": [
  {
   "cell_type": "code",
   "execution_count": 4,
   "id": "a2485e26-9237-4ccb-9925-23ea03c2c5b5",
   "metadata": {},
   "outputs": [],
   "source": [
    "import numpy as np\n",
    "import matplotlib.pyplot as plt"
   ]
  },
  {
   "cell_type": "code",
   "execution_count": 5,
   "id": "357c9368-ec3c-486f-a33d-bcfdc3324ab0",
   "metadata": {},
   "outputs": [],
   "source": [
    "def comp_trapz(a, b, f, N):\n",
    "    intervals = np.linspace(a,b,N+1)\n",
    "    f_evals = f(intervals)\n",
    "    w = np.ones(N+1)\n",
    "    w[0] = 1/2\n",
    "    w[-1] = 1/2\n",
    "\n",
    "    int_f = np.dot(f_evals, w)\n",
    "    return (b-a)/(N) * int_f\n",
    "\n",
    "def comp_simpsonz(a, b, f, N):\n",
    "    points = 2*int(N/2)+1\n",
    "    intervals = np.linspace(a,b,points)\n",
    "    f_evals = f(intervals)\n",
    "    w = np.ones(points)\n",
    "    for i in range(0,points):\n",
    "        if (i%2):\n",
    "            w[i] = 4\n",
    "        else:\n",
    "            w[i] = 2\n",
    "    w[0] = 1\n",
    "    w[-1] = 1\n",
    "\n",
    "    \n",
    "    # print(f_evals)\n",
    "    int_f = np.dot(f_evals, w)\n",
    "    return (b-a)/(3*(points-1)) * int_f"
   ]
  },
  {
   "cell_type": "code",
   "execution_count": 27,
   "id": "e5ef38e5-e9fb-4df6-a77e-0e3c24848f81",
   "metadata": {},
   "outputs": [],
   "source": [
    "func_1 = lambda s: 1/(1+s**2)"
   ]
  },
  {
   "cell_type": "code",
   "execution_count": 32,
   "id": "d3bddd48-73f0-43c3-a3e6-5340aa811269",
   "metadata": {},
   "outputs": [],
   "source": [
    "N_t = 1289\n",
    "N_s = 108\n",
    "int_trapz = comp_trapz(-5,5,func_1,N)\n",
    "int_simpsonz = comp_simpsonz(-5,5,func_1,N)\n",
    "\n",
    "int_actual = 2.74680153389"
   ]
  },
  {
   "cell_type": "code",
   "execution_count": 33,
   "id": "c0ff08da-5321-41b2-9b18-5e497df29fb5",
   "metadata": {},
   "outputs": [
    {
     "name": "stdout",
     "output_type": "stream",
     "text": [
      "-4.829295896624833\n"
     ]
    }
   ],
   "source": [
    "print(np.log10(abs(int_actual - int_trapz)))"
   ]
  },
  {
   "cell_type": "code",
   "execution_count": 34,
   "id": "373f10d1-a57f-4e55-8fd4-1808c86a4b36",
   "metadata": {},
   "outputs": [
    {
     "name": "stdout",
     "output_type": "stream",
     "text": [
      "-8.583905069184961\n"
     ]
    }
   ],
   "source": [
    "print(np.log10(abs(int_actual - int_simpsonz)))"
   ]
  },
  {
   "cell_type": "code",
   "execution_count": 35,
   "id": "fea5d330-16d0-410b-9ba1-863ff283a22e",
   "metadata": {},
   "outputs": [],
   "source": [
    "func_2 = lambda u: np.cos(1/u)*u"
   ]
  },
  {
   "cell_type": "code",
   "execution_count": 45,
   "id": "ab25f87d-30f8-4705-9a1f-96e7749d0a39",
   "metadata": {},
   "outputs": [
    {
     "data": {
      "text/plain": [
       "np.float64(0.01468538069719534)"
      ]
     },
     "execution_count": 45,
     "metadata": {},
     "output_type": "execute_result"
    }
   ],
   "source": [
    "int_simpsonz = comp_simpsonz(1e-15,1,func_2,5)\n",
    "int_simpsonz"
   ]
  },
  {
   "cell_type": "code",
   "execution_count": null,
   "id": "b581c8ef-11bb-4757-942d-d23f2e40d2f7",
   "metadata": {},
   "outputs": [],
   "source": []
  }
 ],
 "metadata": {
  "kernelspec": {
   "display_name": "Python 3 (ipykernel)",
   "language": "python",
   "name": "python3"
  },
  "language_info": {
   "codemirror_mode": {
    "name": "ipython",
    "version": 3
   },
   "file_extension": ".py",
   "mimetype": "text/x-python",
   "name": "python",
   "nbconvert_exporter": "python",
   "pygments_lexer": "ipython3",
   "version": "3.12.9"
  }
 },
 "nbformat": 4,
 "nbformat_minor": 5
}
