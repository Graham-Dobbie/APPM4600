{
 "cells": [
  {
   "cell_type": "code",
   "execution_count": 1,
   "id": "f76b5bed-34bb-4a36-bbc0-077317959e1f",
   "metadata": {},
   "outputs": [],
   "source": [
    "import numpy as np"
   ]
  },
  {
   "cell_type": "code",
   "execution_count": 2,
   "id": "6a352333-b359-4755-9452-fb2bdcea7ea4",
   "metadata": {},
   "outputs": [],
   "source": [
    "x_points = []\n",
    "fx_points = []"
   ]
  },
  {
   "cell_type": "code",
   "execution_count": 9,
   "id": "3bbe0032-e5cf-4ea6-b1ff-19f023eb17f7",
   "metadata": {},
   "outputs": [],
   "source": [
    "def create_coefs(interp_x, interp_fx):\n",
    "    vandermonde_mat = fx_n = interp_x**0\n",
    "\n",
    "    min_x = min(interp_x)\n",
    "    max_x = max(interp_y)\n",
    "\n",
    "    # f(x) = a + a*x + a*x^2\n",
    "    for i in range(len(x)):\n",
    "        fx_n = interp_x**i\n",
    "        vandermonde_mat = np.vstack((vandermonde_mat, fx_n))\n",
    "    \n",
    "    coefs = np.linalg.solve(vandermonde_mat,interp_fx)\n",
    "\n",
    "    return coefs, [min_x,max_x]\n",
    "\n",
    "def interpolate(x, coefs, limits):\n",
    "\n",
    "\n",
    "    if((x < limits[0]) or x > (limits[1])):\n",
    "        print(\"x is not inbetween the function\")\n",
    "        err = True\n",
    "        return x, err\n",
    "\n",
    "    fx = 0\n",
    "\n",
    "    for i in range(len(x)):\n",
    "        fx = x**i*coefs[i]\n",
    "        "
   ]
  },
  {
   "cell_type": "code",
   "execution_count": null,
   "id": "001706ce-2f90-4183-bcac-764491453233",
   "metadata": {},
   "outputs": [],
   "source": []
  }
 ],
 "metadata": {
  "kernelspec": {
   "display_name": "Python 3 (ipykernel)",
   "language": "python",
   "name": "python3"
  },
  "language_info": {
   "codemirror_mode": {
    "name": "ipython",
    "version": 3
   },
   "file_extension": ".py",
   "mimetype": "text/x-python",
   "name": "python",
   "nbconvert_exporter": "python",
   "pygments_lexer": "ipython3",
   "version": "3.12.9"
  }
 },
 "nbformat": 4,
 "nbformat_minor": 5
}
