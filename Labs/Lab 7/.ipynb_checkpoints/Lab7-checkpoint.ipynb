{
 "cells": [
  {
   "cell_type": "code",
   "execution_count": 17,
   "id": "f76b5bed-34bb-4a36-bbc0-077317959e1f",
   "metadata": {},
   "outputs": [],
   "source": [
    "import numpy as np"
   ]
  },
  {
   "cell_type": "code",
   "execution_count": 18,
   "id": "6a352333-b359-4755-9452-fb2bdcea7ea4",
   "metadata": {},
   "outputs": [],
   "source": [
    "x_points = []\n",
    "fx_points = []"
   ]
  },
  {
   "cell_type": "code",
   "execution_count": 22,
   "id": "3bbe0032-e5cf-4ea6-b1ff-19f023eb17f7",
   "metadata": {},
   "outputs": [],
   "source": [
    "def create_coefs(interp_x, interp_fx):\n",
    "    vandermonde_mat = fx_n = interp_x**0\n",
    "\n",
    "    min_x = min(interp_x)\n",
    "    max_x = max(interp_x)\n",
    "\n",
    "    # f(x) = a + a*x + a*x^2\n",
    "    for i in range(len(interp_x)):\n",
    "        fx_n = interp_x**i\n",
    "        vandermonde_mat = np.vstack((vandermonde_mat, fx_n))\n",
    "\n",
    "    vandermonde_mat = vandermonde_mat.T\n",
    "\n",
    "    print(interp_fx.shape)\n",
    "    print(vandermonde_mat)\n",
    "    coefs = np.linalg.solve(vandermonde_mat,np.reshape(interp_fx, [len(interp_fx)]))\n",
    "\n",
    "    return (coefs, [min_x,max_x])\n",
    "\n",
    "def interpolate(x, f_aprox):\n",
    "    (coefs, limits) = f_aprox\n",
    "    if((x < limits[0]) or x > (limits[1])):\n",
    "        print(\"x is not inbetween the function\")\n",
    "        err = True\n",
    "        return x, err\n",
    "\n",
    "    fx = 0\n",
    "\n",
    "    for i in range(len(x)):\n",
    "        fx = x**i*coefs[i]\n",
    "\n",
    "    return fx\n",
    "        "
   ]
  },
  {
   "cell_type": "code",
   "execution_count": 23,
   "id": "001706ce-2f90-4183-bcac-764491453233",
   "metadata": {},
   "outputs": [],
   "source": [
    "def f3_1(x):\n",
    "    return 1/(1+(10*x)**2)\n",
    "\n",
    "def driver3_1_vandermonde(numb_points):\n",
    "    x_interp = np.linspace(-1, 1, numb_points)\n",
    "    fx_interp = f3_1(x_interp)\n",
    "\n",
    "    x_test = np.linspace(-1, 1, 1000)\n",
    "    fx_test = f3_1(x_test)\n",
    "\n",
    "    f_aprox = create_coefs(x_interp,fx_interp)\n",
    "    \n",
    "    interpolate(x_test, f_aprox)\n",
    "    print(interpolate)\n",
    "    "
   ]
  },
  {
   "cell_type": "code",
   "execution_count": 24,
   "id": "e0f8395c-bdfe-4c22-b074-9a94a0ac4f72",
   "metadata": {},
   "outputs": [
    {
     "name": "stdout",
     "output_type": "stream",
     "text": [
      "(4,)\n",
      "[[ 1.          1.         -1.          1.         -1.        ]\n",
      " [ 1.          1.         -0.33333333  0.11111111 -0.03703704]\n",
      " [ 1.          1.          0.33333333  0.11111111  0.03703704]\n",
      " [ 1.          1.          1.          1.          1.        ]]\n"
     ]
    },
    {
     "ename": "LinAlgError",
     "evalue": "Last 2 dimensions of the array must be square",
     "output_type": "error",
     "traceback": [
      "\u001b[0;31m---------------------------------------------------------------------------\u001b[0m",
      "\u001b[0;31mLinAlgError\u001b[0m                               Traceback (most recent call last)",
      "Cell \u001b[0;32mIn[24], line 1\u001b[0m\n\u001b[0;32m----> 1\u001b[0m driver3_1_vandermonde(\u001b[38;5;241m4\u001b[39m)\n",
      "Cell \u001b[0;32mIn[23], line 11\u001b[0m, in \u001b[0;36mdriver3_1_vandermonde\u001b[0;34m(numb_points)\u001b[0m\n\u001b[1;32m      8\u001b[0m x_test \u001b[38;5;241m=\u001b[39m np\u001b[38;5;241m.\u001b[39mlinspace(\u001b[38;5;241m-\u001b[39m\u001b[38;5;241m1\u001b[39m, \u001b[38;5;241m1\u001b[39m, \u001b[38;5;241m1000\u001b[39m)\n\u001b[1;32m      9\u001b[0m fx_test \u001b[38;5;241m=\u001b[39m f3_1(x_test)\n\u001b[0;32m---> 11\u001b[0m f_aprox \u001b[38;5;241m=\u001b[39m create_coefs(x_interp,fx_interp)\n\u001b[1;32m     13\u001b[0m interpolate(x_test, f_aprox)\n\u001b[1;32m     14\u001b[0m \u001b[38;5;28mprint\u001b[39m(interpolate)\n",
      "Cell \u001b[0;32mIn[22], line 16\u001b[0m, in \u001b[0;36mcreate_coefs\u001b[0;34m(interp_x, interp_fx)\u001b[0m\n\u001b[1;32m     14\u001b[0m \u001b[38;5;28mprint\u001b[39m(interp_fx\u001b[38;5;241m.\u001b[39mshape)\n\u001b[1;32m     15\u001b[0m \u001b[38;5;28mprint\u001b[39m(vandermonde_mat)\n\u001b[0;32m---> 16\u001b[0m coefs \u001b[38;5;241m=\u001b[39m np\u001b[38;5;241m.\u001b[39mlinalg\u001b[38;5;241m.\u001b[39msolve(vandermonde_mat,np\u001b[38;5;241m.\u001b[39mreshape(interp_fx, [\u001b[38;5;28mlen\u001b[39m(interp_fx)]))\n\u001b[1;32m     18\u001b[0m \u001b[38;5;28;01mreturn\u001b[39;00m (coefs, [min_x,max_x])\n",
      "File \u001b[0;32m~/miniconda3/lib/python3.12/site-packages/numpy/linalg/_linalg.py:396\u001b[0m, in \u001b[0;36msolve\u001b[0;34m(a, b)\u001b[0m\n\u001b[1;32m    394\u001b[0m a, _ \u001b[38;5;241m=\u001b[39m _makearray(a)\n\u001b[1;32m    395\u001b[0m _assert_stacked_2d(a)\n\u001b[0;32m--> 396\u001b[0m _assert_stacked_square(a)\n\u001b[1;32m    397\u001b[0m b, wrap \u001b[38;5;241m=\u001b[39m _makearray(b)\n\u001b[1;32m    398\u001b[0m t, result_t \u001b[38;5;241m=\u001b[39m _commonType(a, b)\n",
      "File \u001b[0;32m~/miniconda3/lib/python3.12/site-packages/numpy/linalg/_linalg.py:202\u001b[0m, in \u001b[0;36m_assert_stacked_square\u001b[0;34m(*arrays)\u001b[0m\n\u001b[1;32m    200\u001b[0m m, n \u001b[38;5;241m=\u001b[39m a\u001b[38;5;241m.\u001b[39mshape[\u001b[38;5;241m-\u001b[39m\u001b[38;5;241m2\u001b[39m:]\n\u001b[1;32m    201\u001b[0m \u001b[38;5;28;01mif\u001b[39;00m m \u001b[38;5;241m!=\u001b[39m n:\n\u001b[0;32m--> 202\u001b[0m     \u001b[38;5;28;01mraise\u001b[39;00m LinAlgError(\u001b[38;5;124m'\u001b[39m\u001b[38;5;124mLast 2 dimensions of the array must be square\u001b[39m\u001b[38;5;124m'\u001b[39m)\n",
      "\u001b[0;31mLinAlgError\u001b[0m: Last 2 dimensions of the array must be square"
     ]
    }
   ],
   "source": [
    "driver3_1_vandermonde(4)"
   ]
  },
  {
   "cell_type": "code",
   "execution_count": null,
   "id": "d19c7c3e-18c7-4d2e-a138-83d26c88fff7",
   "metadata": {},
   "outputs": [],
   "source": []
  },
  {
   "cell_type": "code",
   "execution_count": null,
   "id": "71443de6-6fd9-4aa6-adea-355e468f1a81",
   "metadata": {},
   "outputs": [],
   "source": []
  },
  {
   "cell_type": "code",
   "execution_count": null,
   "id": "ffe9f093-78cc-40ec-ad97-2c3cd2075729",
   "metadata": {},
   "outputs": [],
   "source": []
  }
 ],
 "metadata": {
  "kernelspec": {
   "display_name": "Python 3 (ipykernel)",
   "language": "python",
   "name": "python3"
  },
  "language_info": {
   "codemirror_mode": {
    "name": "ipython",
    "version": 3
   },
   "file_extension": ".py",
   "mimetype": "text/x-python",
   "name": "python",
   "nbconvert_exporter": "python",
   "pygments_lexer": "ipython3",
   "version": "3.12.9"
  }
 },
 "nbformat": 4,
 "nbformat_minor": 5
}
