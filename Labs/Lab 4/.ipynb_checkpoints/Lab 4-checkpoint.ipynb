{
 "cells": [
  {
   "cell_type": "code",
   "execution_count": 85,
   "id": "6eba8b92-155a-4559-b255-3f409759988e",
   "metadata": {},
   "outputs": [],
   "source": [
    "# Import libraries\n",
    "import numpy as np;\n",
    "import matplotlib.pyplot as plt;\n",
    "from math import sqrt\n",
    "\n",
    "def fixed_point_method(g,dg,x0,a,b,tol,nmax,vrb=False):\n",
    "    # Fixed point iteration method applied to find the fixed point of g from starting point x0\n",
    "\n",
    "    # Initial values\n",
    "    n=0;\n",
    "    xn = x0;\n",
    "    # Current guess is stored at rn[n]\n",
    "    rn=np.array([xn]);\n",
    "    r=xn;\n",
    "\n",
    "    if vrb:\n",
    "        print(\"\\n Fixed point method with nmax=%d and tol=%1.1e\\n\" % (nmax, tol));\n",
    "        print(\"\\n|--n--|----xn----|---|g(xn)|---|---|g'(xn)---|\");\n",
    "\n",
    "    while n<=nmax:\n",
    "        if vrb:\n",
    "            print(\"|--%d--|%1.8f|%1.8f|%1.4f|\" % (n,xn,np.abs(g(xn)),np.abs(dg(xn))));\n",
    "\n",
    "        # If the estimate is approximately a root, get out of while loop\n",
    "        if np.abs(g(xn)-xn)<tol:\n",
    "                #(break is an instruction that gets out of the while loop)\n",
    "                break;\n",
    "    \n",
    "            # update iterate xn, increase n.\n",
    "        n += 1\n",
    "        xn = g(xn); #apply g (fixed point step)\n",
    "        rn = np.append(rn,xn); #add new guess to list of iterates\n",
    "\n",
    "    if vrb:\n",
    "        ########################################################################\n",
    "        # Approximate error log-log plot\n",
    "        logploterr(rn,r);\n",
    "        plt.title('Fixed Point Iteration: Log error vs n');\n",
    "        ########################################################################\n",
    "    return rn\n",
    "\n",
    "# This auxiliary function plots approximate log error for a list of iterates given\n",
    "# the list (in array rn) and the exact root r (or our best guess)\n",
    "def logploterr(rn,r):\n",
    "    n = rn.size-1;\n",
    "    e = np.abs(r-rn[0:n]);\n",
    "    #length of interval\n",
    "    nn = np.arange(0,n);\n",
    "    #log plot error vs iteration number\n",
    "    plt.plot(nn,np.log2(e),'r--');\n",
    "    plt.xlabel('n'); plt.ylabel('log2(error)');\n",
    "    return;\n"
   ]
  },
  {
   "cell_type": "code",
   "execution_count": 73,
   "id": "4db8e9ca-e998-466a-a412-a4ce48595069",
   "metadata": {},
   "outputs": [],
   "source": [
    "def g(x):\n",
    "    return sqrt(10/(x+4))\n",
    "\n",
    "def dg(x):\n",
    "    return (1/(2*(g(x)))*-10/((x+4)**2))"
   ]
  },
  {
   "cell_type": "code",
   "execution_count": 154,
   "id": "a09f5ed8-edfd-4a8b-a39e-8a9fcb2ce510",
   "metadata": {},
   "outputs": [],
   "source": [
    "def driver(a,b,x0):\n",
    "    rn =  fixed_point_method(g, dg, x0, a, b, 1e-10, 100)\n",
    "    r_real = fixed_point_method(g, dg, x0, a, b, 1e-16, 100)\n",
    "    r = r_real[r_real.size -1]\n",
    "    rel_err = np.zeros(rn.size - 1)\n",
    "    \n",
    "    for i in range(rel_err.size - 1):\n",
    "        rel_err[i] = abs(rn[i+1] - r)/abs(rn[i] - r)**1\n",
    "    n = np.arange(0,rel_err.size)\n",
    "\n",
    "    rel_err_log = np.log2(rel_err)\n",
    "    rel_err_log_slope = np.zeros(rel_err_log.size - 1)\n",
    "\n",
    "    for i in range(rel_err_log_slope.size - 1):\n",
    "        rel_err_log_slope[i] = (rel_err_log[i+1] - rel_err_log[i])\n",
    "    n = np.arange(0,rel_err_log_slope.size)\n",
    "\n",
    "    \n",
    "    \n",
    "    plt.plot(n,rel_err_log_slope)\n",
    "    plt.show()\n",
    "        "
   ]
  },
  {
   "cell_type": "code",
   "execution_count": 155,
   "id": "8fb2020a-9bcb-449e-99ac-a8ae59f5dbac",
   "metadata": {},
   "outputs": [
    {
     "name": "stderr",
     "output_type": "stream",
     "text": [
      "C:\\Users\\Graha\\AppData\\Local\\Temp\\ipykernel_24728\\3488121296.py:11: RuntimeWarning: divide by zero encountered in log2\n",
      "  rel_err_log = np.log2(rel_err)\n"
     ]
    },
    {
     "data": {
      "image/png": "[encoded data removed]",
      "text/plain": [
       "<Figure size 640x480 with 1 Axes>"
      ]
     },
     "metadata": {},
     "output_type": "display_data"
    }
   ],
   "source": [
    "driver(0,2,1.5)"
   ]
  },
  {
   "cell_type": "code",
   "execution_count": null,
   "id": "faa77982-91e3-4c95-8341-6141448f7ca5",
   "metadata": {},
   "outputs": [],
   "source": []
  }
 ],
 "metadata": {
  "kernelspec": {
   "display_name": "Python 3 (ipykernel)",
   "language": "python",
   "name": "python3"
  },
  "language_info": {
   "codemirror_mode": {
    "name": "ipython",
    "version": 3
   },
   "file_extension": ".py",
   "mimetype": "text/x-python",
   "name": "python",
   "nbconvert_exporter": "python",
   "pygments_lexer": "ipython3",
   "version": "3.13.1"
  }
 },
 "nbformat": 4,
 "nbformat_minor": 5
}
