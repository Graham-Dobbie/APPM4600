{
 "cells": [
  {
   "cell_type": "code",
   "execution_count": 1,
   "id": "0bc61455-46f7-4fa3-a6cc-afafa8381998",
   "metadata": {},
   "outputs": [],
   "source": [
    "import numpy as np"
   ]
  },
  {
   "cell_type": "code",
   "execution_count": 87,
   "id": "8c13f202-86d4-40c3-b8cb-4063192e2835",
   "metadata": {},
   "outputs": [],
   "source": [
    "def comp_trapz(a, b, f, N):\n",
    "    intervals = np.linspace(a,b,N+1)\n",
    "    f_evals = f(intervals)\n",
    "    w = np.ones(N+1)\n",
    "    w[0] = 1/2\n",
    "    w[-1] = 1/2\n",
    "\n",
    "    int_f = np.dot(f_evals, w)\n",
    "    return (b-a)/(N) * int_f\n",
    "\n",
    "def comp_simpsonz(a, b, f, N):\n",
    "    points = 2*int(N/2)+1\n",
    "    intervals = np.linspace(a,b,points)\n",
    "    f_evals = f(intervals)\n",
    "    w = np.ones(points)\n",
    "    for i in range(0,points):\n",
    "        if (i%2):\n",
    "            w[i] = 4\n",
    "        else:\n",
    "            w[i] = 2\n",
    "    w[0] = 1\n",
    "    w[-1] = 1\n",
    "\n",
    "    \n",
    "    print(f_evals)\n",
    "    int_f = np.dot(f_evals, w)\n",
    "    return (b-a)/(3*(points-1)) * int_f"
   ]
  },
  {
   "cell_type": "code",
   "execution_count": 88,
   "id": "05d1a06c-a6a1-49cd-99f4-6830fa857415",
   "metadata": {},
   "outputs": [
    {
     "ename": "SyntaxError",
     "evalue": "incomplete input (790298415.py, line 1)",
     "output_type": "error",
     "traceback": [
      "\u001b[0;36m  Cell \u001b[0;32mIn[88], line 1\u001b[0;36m\u001b[0m\n\u001b[0;31m    def adaptive_integration(a, b,\u001b[0m\n\u001b[0m                                   ^\u001b[0m\n\u001b[0;31mSyntaxError\u001b[0m\u001b[0;31m:\u001b[0m incomplete input\n"
     ]
    }
   ],
   "source": [
    "def adaptive_integration(a, b, f, method, M, TOL, prev = None):\n",
    "    int_f = 0\n",
    "\n",
    "    for i in range(M):\n",
    "        adaptive_integration\n",
    "    "
   ]
  },
  {
   "cell_type": "code",
   "execution_count": 91,
   "id": "1290825b-9c14-4462-ae73-1051be47ba71",
   "metadata": {},
   "outputs": [
    {
     "name": "stdout",
     "output_type": "stream",
     "text": [
      "[-1.  0.  1.]\n"
     ]
    },
    {
     "data": {
      "text/plain": [
       "np.float64(0.0)"
      ]
     },
     "execution_count": 91,
     "metadata": {},
     "output_type": "execute_result"
    }
   ],
   "source": []
  },
  {
   "cell_type": "code",
   "execution_count": null,
   "id": "23732cf6-a501-44a4-b18d-109569ed5815",
   "metadata": {},
   "outputs": [],
   "source": []
  }
 ],
 "metadata": {
  "kernelspec": {
   "display_name": "Python 3 (ipykernel)",
   "language": "python",
   "name": "python3"
  },
  "language_info": {
   "codemirror_mode": {
    "name": "ipython",
    "version": 3
   },
   "file_extension": ".py",
   "mimetype": "text/x-python",
   "name": "python",
   "nbconvert_exporter": "python",
   "pygments_lexer": "ipython3",
   "version": "3.12.9"
  }
 },
 "nbformat": 4,
 "nbformat_minor": 5
}
