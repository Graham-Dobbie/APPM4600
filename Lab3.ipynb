{
 "cells": [
  {
   "cell_type": "code",
   "execution_count": 2,
   "id": "4bb6da1e-bcbd-4dd4-b367-abb886276ea2",
   "metadata": {},
   "outputs": [],
   "source": []
  },
  {
   "cell_type": "code",
   "execution_count": 11,
   "id": "1f636d19-d1b4-4860-b5b9-a024fcbe6318",
   "metadata": {},
   "outputs": [
    {
     "name": "stdout",
     "output_type": "stream",
     "text": [
      "the approximate root is 0.5\n",
      "the error message reads: 1\n",
      "f(astar) = 0.479425538604203\n"
     ]
    }
   ],
   "source": [
    "# import libraries\n",
    "import numpy as np\n",
    "\n",
    "def driver():\n",
    "\n",
    "# use routines    \n",
    "    f = lambda x: np.sin(x)\n",
    "    a = 0.5\n",
    "    b = 3*np.pi/4\n",
    "\n",
    "#    f = lambda x: np.sin(x)\n",
    "#    a = 0.1\n",
    "#    b = np.pi+0.1\n",
    "\n",
    "    tol = 1e-5\n",
    "\n",
    "    [astar,ier] = bisection(f,a,b,tol)\n",
    "    print('the approximate root is',astar)\n",
    "    print('the error message reads:',ier)\n",
    "    print('f(astar) =', f(astar))\n",
    "\n",
    "\n",
    "\n",
    "\n",
    "# define routines\n",
    "def bisection(f,a,b,tol):\n",
    "    \n",
    "#    Inputs:\n",
    "#     f,a,b       - function and endpoints of initial interval\n",
    "#      tol  - bisection stops when interval length < tol\n",
    "\n",
    "#    Returns:\n",
    "#      astar - approximation of root\n",
    "#      ier   - error message\n",
    "#            - ier = 1 => Failed\n",
    "#            - ier = 0 == success\n",
    "\n",
    "#     first verify there is a root we can find in the interval \n",
    "\n",
    "    fa = f(a)\n",
    "    fb = f(b);\n",
    "    if (fa*fb>0):\n",
    "       ier = 1\n",
    "       astar = a\n",
    "       return [astar, ier]\n",
    "\n",
    "#   verify end points are not a root \n",
    "    if (fa == 0):\n",
    "      astar = a\n",
    "      ier =0\n",
    "      return [astar, ier]\n",
    "\n",
    "    if (fb ==0):\n",
    "      astar = b\n",
    "      ier = 0\n",
    "      return [astar, ier]\n",
    "\n",
    "    count = 0\n",
    "    d = 0.5*(a+b)\n",
    "    while (abs(d-a)> tol):\n",
    "      fd = f(d)\n",
    "      if (fd ==0):\n",
    "        astar = d\n",
    "        ier = 0\n",
    "        return [astar, ier]\n",
    "      if (fa*fd<0):\n",
    "         b = d\n",
    "      else: \n",
    "        a = d\n",
    "        fa = fd\n",
    "      d = 0.5*(a+b)\n",
    "      count = count +1\n",
    "#      print('abs(d-a) = ', abs(d-a))\n",
    "      \n",
    "    astar = d\n",
    "    ier = 0\n",
    "    return [astar, ier]\n",
    "      \n",
    "driver()               \n"
   ]
  },
  {
   "cell_type": "code",
   "execution_count": 6,
   "id": "e399f622-338c-48b9-96c4-b40fa4f12115",
   "metadata": {},
   "outputs": [
    {
     "data": {
      "text/latex": [
       "$\\displaystyle x^{9} - 45 x^{8} + 900 x^{7} - 10500 x^{6} + 78750 x^{5} - 393750 x^{4} + 1312500 x^{3} - 2812500 x^{2} + 3515625 x - 1953125$"
      ],
      "text/plain": [
       "x**9 - 45*x**8 + 900*x**7 - 10500*x**6 + 78750*x**5 - 393750*x**4 + 1312500*x**3 - 2812500*x**2 + 3515625*x - 1953125"
      ]
     },
     "execution_count": 6,
     "metadata": {},
     "output_type": "execute_result"
    }
   ],
   "source": []
  },
  {
   "cell_type": "code",
   "execution_count": null,
   "id": "a2b2c4cc-1b18-47de-8f71-c144b8d37f35",
   "metadata": {},
   "outputs": [],
   "source": []
  }
 ],
 "metadata": {
  "kernelspec": {
   "display_name": "Python 3 (ipykernel)",
   "language": "python",
   "name": "python3"
  },
  "language_info": {
   "codemirror_mode": {
    "name": "ipython",
    "version": 3
   },
   "file_extension": ".py",
   "mimetype": "text/x-python",
   "name": "python",
   "nbconvert_exporter": "python",
   "pygments_lexer": "ipython3",
   "version": "3.13.2"
  }
 },
 "nbformat": 4,
 "nbformat_minor": 5
}
